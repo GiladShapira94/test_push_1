{
 "cells": [
  {
   "cell_type": "code",
   "execution_count": 1,
   "id": "813a4eda",
   "metadata": {},
   "outputs": [],
   "source": [
    "import mlrun"
   ]
  },
  {
   "cell_type": "code",
   "execution_count": 27,
   "id": "0be3c61f",
   "metadata": {},
   "outputs": [
    {
     "name": "stdout",
     "output_type": "stream",
     "text": [
      "Collecting scikit-learn==1.2.1\n",
      "  Downloading scikit_learn-1.2.1-cp39-cp39-manylinux_2_17_x86_64.manylinux2014_x86_64.whl (9.6 MB)\n",
      "\u001b[2K     \u001b[90m━━━━━━━━━━━━━━━━━━━━━━━━━━━━━━━━━━━━━━━━\u001b[0m \u001b[32m9.6/9.6 MB\u001b[0m \u001b[31m14.5 MB/s\u001b[0m eta \u001b[36m0:00:00\u001b[0ma \u001b[36m0:00:01\u001b[0m\n",
      "\u001b[?25hRequirement already satisfied: numpy>=1.17.3 in /opt/conda/lib/python3.9/site-packages (from scikit-learn==1.2.1) (1.22.4)\n",
      "Requirement already satisfied: joblib>=1.1.1 in /opt/conda/lib/python3.9/site-packages (from scikit-learn==1.2.1) (1.2.0)\n",
      "Requirement already satisfied: threadpoolctl>=2.0.0 in /opt/conda/lib/python3.9/site-packages (from scikit-learn==1.2.1) (3.1.0)\n",
      "Requirement already satisfied: scipy>=1.3.2 in /opt/conda/lib/python3.9/site-packages (from scikit-learn==1.2.1) (1.9.1)\n",
      "Installing collected packages: scikit-learn\n",
      "  Attempting uninstall: scikit-learn\n",
      "    Found existing installation: scikit-learn 1.0.2\n",
      "    Uninstalling scikit-learn-1.0.2:\n",
      "      Successfully uninstalled scikit-learn-1.0.2\n",
      "Successfully installed scikit-learn-1.2.1\n",
      "\n",
      "\u001b[1m[\u001b[0m\u001b[34;49mnotice\u001b[0m\u001b[1;39;49m]\u001b[0m\u001b[39;49m A new release of pip available: \u001b[0m\u001b[31;49m22.3.1\u001b[0m\u001b[39;49m -> \u001b[0m\u001b[32;49m23.0.1\u001b[0m\n",
      "\u001b[1m[\u001b[0m\u001b[34;49mnotice\u001b[0m\u001b[1;39;49m]\u001b[0m\u001b[39;49m To update, run: \u001b[0m\u001b[32;49mpip install --upgrade pip\u001b[0m\n"
     ]
    }
   ],
   "source": [
    "# Make sure we have the same version of the scikit-learn on the client as in the server (not needed in MLRun 1.3 or higher)\n",
    "! pip install scikit-learn==1.2.1"
   ]
  },
  {
   "cell_type": "code",
   "execution_count": 2,
   "id": "d795cb36",
   "metadata": {},
   "outputs": [
    {
     "name": "stdout",
     "output_type": "stream",
     "text": [
      "> 2023-03-13 10:25:25,154 [info] Deleting project new-git-project from MLRun DB due to overwrite\n",
      "> 2023-03-13 10:25:25,478 [info] Created and saved project new-git-project: {'from_template': None, 'overwrite': True, 'context': './', 'save': True}\n"
     ]
    }
   ],
   "source": [
    "# Create a new project. The init_git flag is used to initialize git in the context dir (makes a hidden .git directory)\n",
    "project = mlrun.new_project(name='new-git-project',init_git=True,overwrite=True)"
   ]
  },
  {
   "cell_type": "code",
   "execution_count": 3,
   "id": "8ca6ec41",
   "metadata": {},
   "outputs": [
    {
     "name": "stdout",
     "output_type": "stream",
     "text": [
      "kind: project\n",
      "metadata:\n",
      "  name: new-git-project\n",
      "spec:\n",
      "  functions: []\n",
      "  workflows: []\n",
      "  artifacts: []\n",
      "  conda: ''\n",
      "  source: ''\n",
      "  desired_state: online\n",
      "\n"
     ]
    }
   ],
   "source": [
    "# A Light project YAML looks like\n",
    "print(project.to_yaml())"
   ]
  },
  {
   "cell_type": "markdown",
   "id": "8635b564",
   "metadata": {},
   "source": [
    "If you are using containerized Jupyter you need to first set your Git parameters, using the following commands in MLRun CLI (The last command will not be needed at MLRun 1.3 as it will be part of the  .gitconfig file in the home directory)\n",
    "```\n",
    "git config --global user.email \"<my@email.com>\"\n",
    "git config --global user.name \"<name>\"\n",
    "git config --global credential.helper store\n",
    "```"
   ]
  },
  {
   "cell_type": "code",
   "execution_count": 4,
   "id": "e5a9595e",
   "metadata": {},
   "outputs": [],
   "source": [
    "# Register an artifact in the project, so that it can be further imported on project load  \n",
    "from mlrun.artifacts import DatasetArtifact\n",
    "data_url = 'https://s3.wasabisys.com/iguazio/data/iris/iris.data.raw.csv'\n",
    "# Register an artifact in the project (to be used in workflows) \n",
    "project.set_artifact('data', artifact=DatasetArtifact(),target_path=data_url)    \n",
    "project.register_artifacts() #saves the artifact in MLRun DB"
   ]
  },
  {
   "cell_type": "code",
   "execution_count": 5,
   "id": "be011ae7",
   "metadata": {},
   "outputs": [],
   "source": [
    "data_art = project.get_artifact('data')"
   ]
  },
  {
   "cell_type": "code",
   "execution_count": 6,
   "id": "d510fbc0",
   "metadata": {},
   "outputs": [
    {
     "name": "stdout",
     "output_type": "stream",
     "text": [
      "kind: dataset\n",
      "metadata:\n",
      "  key: data\n",
      "  project: new-git-project\n",
      "  iter: 0\n",
      "  tree: latest\n",
      "  tag: latest\n",
      "  updated: '2023-03-13T10:25:25.506222+00:00'\n",
      "spec:\n",
      "  target_path: https://s3.wasabisys.com/iguazio/data/iris/iris.data.raw.csv\n",
      "  format: ''\n",
      "  db_key: data\n",
      "  producer:\n",
      "    kind: project\n",
      "    name: new-git-project\n",
      "    tag: latest\n",
      "  sources: []\n",
      "  license: ''\n",
      "status:\n",
      "  state: created\n",
      "\n"
     ]
    }
   ],
   "source": [
    "print(data_art.to_yaml())"
   ]
  },
  {
   "cell_type": "code",
   "execution_count": 7,
   "id": "f16227f4",
   "metadata": {},
   "outputs": [],
   "source": [
    "# This is how the project YAML looks now\n",
    "# print(project.to_yaml())"
   ]
  },
  {
   "cell_type": "code",
   "execution_count": 8,
   "id": "2f6d41a5",
   "metadata": {},
   "outputs": [
    {
     "name": "stdout",
     "output_type": "stream",
     "text": [
      "Overwriting fetch_data.py\n"
     ]
    }
   ],
   "source": [
    "%%writefile fetch_data.py\n",
    "import mlrun\n",
    "@mlrun.handler(outputs=[\"dataset\",\"label_column\"])\n",
    "def fetch_data(dataset):\n",
    "    \"\"\"\n",
    "    A function which fetches data to MLRun\n",
    "    \"\"\"\n",
    "    df = dataset.as_df()\n",
    "    \n",
    "    return df, \"label\""
   ]
  },
  {
   "cell_type": "code",
   "execution_count": 9,
   "id": "d3a87832",
   "metadata": {},
   "outputs": [
    {
     "data": {
      "text/plain": [
       "<mlrun.projects.project.MlrunProject at 0x7f4b68794100>"
      ]
     },
     "execution_count": 9,
     "metadata": {},
     "output_type": "execute_result"
    }
   ],
   "source": [
    "#Create a serverless function object from the code above, and register it in the project\n",
    "fetch_data_fn = project.set_function(\"fetch_data.py\", name=\"fetch_data\", kind=\"job\", image=\"mlrun/mlrun\", handler=\"fetch_data\")\n",
    "project.save()  # save the project with the latest config"
   ]
  },
  {
   "cell_type": "code",
   "execution_count": 10,
   "id": "7c076fcf",
   "metadata": {},
   "outputs": [],
   "source": [
    "# This is how the project YAML looks now\n",
    "# print(project.to_yaml())"
   ]
  },
  {
   "cell_type": "code",
   "execution_count": 11,
   "id": "8c4c7ed9",
   "metadata": {},
   "outputs": [],
   "source": [
    "# First run locally for debugging (Optional step)\n",
    "# fetch_data_run_locally = project.run_function(\"fetch_data\",inputs={'dataset':project.get_artifact('data').uri}, local=True)"
   ]
  },
  {
   "cell_type": "code",
   "execution_count": 12,
   "id": "450a57c7",
   "metadata": {},
   "outputs": [],
   "source": [
    "# fetch_data_run_locally.artifact(\"dataset\").as_df().head()"
   ]
  },
  {
   "cell_type": "code",
   "execution_count": 13,
   "id": "7887c8be",
   "metadata": {},
   "outputs": [
    {
     "name": "stdout",
     "output_type": "stream",
     "text": [
      "> 2023-03-13 10:25:26,681 [warning] it is recommended to use k8s secret (specify secret_name), specifying the aws_access_key/aws_secret_key directly is unsafe\n",
      "> 2023-03-13 10:25:26,694 [info] starting run fetch-data-fetch-data uid=a99c710c39f745988b9c8ef15de890ba DB=http://mlrun-api:8080\n",
      "> 2023-03-13 10:25:26,804 [info] Job is running in the background, pod: fetch-data-fetch-data-7btkk\n",
      "> 2023-03-13 10:25:32,799 [info] To track results use the CLI: {'info_cmd': 'mlrun get run a99c710c39f745988b9c8ef15de890ba -p new-git-project', 'logs_cmd': 'mlrun logs a99c710c39f745988b9c8ef15de890ba -p new-git-project'}\n",
      "> 2023-03-13 10:25:32,800 [info] run executed, status=completed\n",
      "final state: completed\n"
     ]
    },
    {
     "data": {
      "text/html": [
       "<style>\n",
       ".dictlist {\n",
       "  background-color: #4EC64B;\n",
       "  text-align: center;\n",
       "  margin: 4px;\n",
       "  border-radius: 3px; padding: 0px 3px 1px 3px; display: inline-block;}\n",
       ".artifact {\n",
       "  cursor: pointer;\n",
       "  background-color: #4EC64B;\n",
       "  text-align: left;\n",
       "  margin: 4px; border-radius: 3px; padding: 0px 3px 1px 3px; display: inline-block;\n",
       "}\n",
       "div.block.hidden {\n",
       "  display: none;\n",
       "}\n",
       ".clickable {\n",
       "  cursor: pointer;\n",
       "}\n",
       ".ellipsis {\n",
       "  display: inline-block;\n",
       "  max-width: 60px;\n",
       "  white-space: nowrap;\n",
       "  overflow: hidden;\n",
       "  text-overflow: ellipsis;\n",
       "}\n",
       ".master-wrapper {\n",
       "  display: flex;\n",
       "  flex-flow: row nowrap;\n",
       "  justify-content: flex-start;\n",
       "  align-items: stretch;\n",
       "}\n",
       ".master-tbl {\n",
       "  flex: 3\n",
       "}\n",
       ".master-wrapper > div {\n",
       "  margin: 4px;\n",
       "  padding: 10px;\n",
       "}\n",
       "iframe.fileview {\n",
       "  border: 0 none;\n",
       "  height: 100%;\n",
       "  width: 100%;\n",
       "  white-space: pre-wrap;\n",
       "}\n",
       ".pane-header-title {\n",
       "  width: 80%;\n",
       "  font-weight: 500;\n",
       "}\n",
       ".pane-header {\n",
       "  line-height: 1;\n",
       "  background-color: #4EC64B;\n",
       "  padding: 3px;\n",
       "}\n",
       ".pane-header .close {\n",
       "  font-size: 20px;\n",
       "  font-weight: 700;\n",
       "  float: right;\n",
       "  margin-top: -5px;\n",
       "}\n",
       ".master-wrapper .right-pane {\n",
       "  border: 1px inset silver;\n",
       "  width: 40%;\n",
       "  min-height: 300px;\n",
       "  flex: 3\n",
       "  min-width: 500px;\n",
       "}\n",
       ".master-wrapper * {\n",
       "  box-sizing: border-box;\n",
       "}\n",
       "</style><script>\n",
       "function copyToClipboard(fld) {\n",
       "    if (document.queryCommandSupported && document.queryCommandSupported('copy')) {\n",
       "        var textarea = document.createElement('textarea');\n",
       "        textarea.textContent = fld.innerHTML;\n",
       "        textarea.style.position = 'fixed';\n",
       "        document.body.appendChild(textarea);\n",
       "        textarea.select();\n",
       "\n",
       "        try {\n",
       "            return document.execCommand('copy'); // Security exception may be thrown by some browsers.\n",
       "        } catch (ex) {\n",
       "\n",
       "        } finally {\n",
       "            document.body.removeChild(textarea);\n",
       "        }\n",
       "    }\n",
       "}\n",
       "function expandPanel(el) {\n",
       "  const panelName = \"#\" + el.getAttribute('paneName');\n",
       "  console.log(el.title);\n",
       "\n",
       "  document.querySelector(panelName + \"-title\").innerHTML = el.title\n",
       "  iframe = document.querySelector(panelName + \"-body\");\n",
       "\n",
       "  const tblcss = `<style> body { font-family: Arial, Helvetica, sans-serif;}\n",
       "    #csv { margin-bottom: 15px; }\n",
       "    #csv table { border-collapse: collapse;}\n",
       "    #csv table td { padding: 4px 8px; border: 1px solid silver;} </style>`;\n",
       "\n",
       "  function csvToHtmlTable(str) {\n",
       "    return '<div id=\"csv\"><table><tr><td>' +  str.replace(/[\\n\\r]+$/g, '').replace(/[\\n\\r]+/g, '</td></tr><tr><td>')\n",
       "      .replace(/,/g, '</td><td>') + '</td></tr></table></div>';\n",
       "  }\n",
       "\n",
       "  function reqListener () {\n",
       "    if (el.title.endsWith(\".csv\")) {\n",
       "      iframe.setAttribute(\"srcdoc\", tblcss + csvToHtmlTable(this.responseText));\n",
       "    } else {\n",
       "      iframe.setAttribute(\"srcdoc\", this.responseText);\n",
       "    }\n",
       "    console.log(this.responseText);\n",
       "  }\n",
       "\n",
       "  const oReq = new XMLHttpRequest();\n",
       "  oReq.addEventListener(\"load\", reqListener);\n",
       "  oReq.open(\"GET\", el.title);\n",
       "  oReq.send();\n",
       "\n",
       "\n",
       "  //iframe.src = el.title;\n",
       "  const resultPane = document.querySelector(panelName + \"-pane\");\n",
       "  if (resultPane.classList.contains(\"hidden\")) {\n",
       "    resultPane.classList.remove(\"hidden\");\n",
       "  }\n",
       "}\n",
       "function closePanel(el) {\n",
       "  const panelName = \"#\" + el.getAttribute('paneName')\n",
       "  const resultPane = document.querySelector(panelName + \"-pane\");\n",
       "  if (!resultPane.classList.contains(\"hidden\")) {\n",
       "    resultPane.classList.add(\"hidden\");\n",
       "  }\n",
       "}\n",
       "\n",
       "</script>\n",
       "<div class=\"master-wrapper\">\n",
       "  <div class=\"block master-tbl\"><div>\n",
       "<style scoped>\n",
       "    .dataframe tbody tr th:only-of-type {\n",
       "        vertical-align: middle;\n",
       "    }\n",
       "\n",
       "    .dataframe tbody tr th {\n",
       "        vertical-align: top;\n",
       "    }\n",
       "\n",
       "    .dataframe thead th {\n",
       "        text-align: right;\n",
       "    }\n",
       "</style>\n",
       "<table border=\"1\" class=\"dataframe\">\n",
       "  <thead>\n",
       "    <tr style=\"text-align: right;\">\n",
       "      <th>project</th>\n",
       "      <th>uid</th>\n",
       "      <th>iter</th>\n",
       "      <th>start</th>\n",
       "      <th>state</th>\n",
       "      <th>name</th>\n",
       "      <th>labels</th>\n",
       "      <th>inputs</th>\n",
       "      <th>parameters</th>\n",
       "      <th>results</th>\n",
       "      <th>artifacts</th>\n",
       "    </tr>\n",
       "  </thead>\n",
       "  <tbody>\n",
       "    <tr>\n",
       "      <td>new-git-project</td>\n",
       "      <td><div title=\"a99c710c39f745988b9c8ef15de890ba\"><a href=\"http://127.0.0.1:30060/mlrun/projects/new-git-project/jobs/monitor/a99c710c39f745988b9c8ef15de890ba/overview\" target=\"_blank\" >...5de890ba</a></div></td>\n",
       "      <td>0</td>\n",
       "      <td>Mar 13 10:25:30</td>\n",
       "      <td>completed</td>\n",
       "      <td>fetch-data-fetch-data</td>\n",
       "      <td><div class=\"dictlist\">kind=job</div><div class=\"dictlist\">owner=jovyan</div><div class=\"dictlist\">mlrun/client_version=1.3.0-rc34</div><div class=\"dictlist\">mlrun/client_python_version=3.9.13</div><div class=\"dictlist\">host=fetch-data-fetch-data-7btkk</div></td>\n",
       "      <td><div title=\"store://artifacts/new-git-project/data#0:latest\">dataset</div></td>\n",
       "      <td></td>\n",
       "      <td><div class=\"dictlist\">label_column=label</div></td>\n",
       "      <td><div title=\"s3://mlrun/projects/new-git-project/artifacts/fetch-data-fetch-data/0/dataset.parquet\">dataset</div></td>\n",
       "    </tr>\n",
       "  </tbody>\n",
       "</table>\n",
       "</div></div>\n",
       "  <div id=\"resulte9eefb25-pane\" class=\"right-pane block hidden\">\n",
       "    <div class=\"pane-header\">\n",
       "      <span id=\"resulte9eefb25-title\" class=\"pane-header-title\">Title</span>\n",
       "      <span onclick=\"closePanel(this)\" paneName=\"resulte9eefb25\" class=\"close clickable\">&times;</span>\n",
       "    </div>\n",
       "    <iframe class=\"fileview\" id=\"resulte9eefb25-body\"></iframe>\n",
       "  </div>\n",
       "</div>\n"
      ],
      "text/plain": [
       "<IPython.core.display.HTML object>"
      ]
     },
     "metadata": {},
     "output_type": "display_data"
    },
    {
     "name": "stdout",
     "output_type": "stream",
     "text": [
      "\n"
     ]
    },
    {
     "data": {
      "text/html": [
       "<b> > to track results use the .show() or .logs() methods  or <a href=\"http://127.0.0.1:30060/mlrun/projects/new-git-project/jobs/monitor/a99c710c39f745988b9c8ef15de890ba/overview\" target=\"_blank\">click here</a> to open in UI</b>"
      ],
      "text/plain": [
       "<IPython.core.display.HTML object>"
      ]
     },
     "metadata": {},
     "output_type": "display_data"
    },
    {
     "name": "stdout",
     "output_type": "stream",
     "text": [
      "> 2023-03-13 10:25:32,952 [info] run executed, status=completed\n"
     ]
    }
   ],
   "source": [
    "# Now run remotely \n",
    "fetch_data_run_remotely = project.run_function(\"fetch_data\",inputs={'dataset':project.get_artifact('data').uri})"
   ]
  },
  {
   "cell_type": "code",
   "execution_count": 14,
   "id": "96cc55b9",
   "metadata": {},
   "outputs": [
    {
     "name": "stdout",
     "output_type": "stream",
     "text": [
      "Overwriting trainer.py\n"
     ]
    }
   ],
   "source": [
    "%%writefile trainer.py\n",
    "\n",
    "import pandas as pd\n",
    "import sklearn\n",
    "from sklearn import ensemble\n",
    "from sklearn.model_selection import train_test_split\n",
    "\n",
    "import mlrun\n",
    "from mlrun.frameworks.sklearn import apply_mlrun\n",
    "\n",
    "\n",
    "@mlrun.handler()\n",
    "def train(\n",
    "    dataset: pd.DataFrame,\n",
    "    label_column: str = \"label\",\n",
    "    n_estimators: int = 100,\n",
    "    learning_rate: float = 0.1,\n",
    "    max_depth: int = 3,\n",
    "    model_name: str = \"iris_model\",\n",
    "):\n",
    "    # Initialize the x & y data\n",
    "    x = dataset.drop(label_column, axis=1)\n",
    "    y = dataset[label_column]\n",
    "    # print(sklearn.__version__)\n",
    "    \n",
    "    # Train/Test split the dataset\n",
    "    x_train, x_test, y_train, y_test = train_test_split(\n",
    "        x, y, test_size=0.2, random_state=42\n",
    "    )\n",
    "\n",
    "    # Pick an ideal ML model\n",
    "    model = ensemble.GradientBoostingClassifier(\n",
    "        n_estimators=n_estimators, learning_rate=learning_rate, max_depth=max_depth\n",
    "    )\n",
    "\n",
    "    # -------------------- The only line you need to add for MLOps -------------------------\n",
    "    # Wraps the model with MLOps (test set is provided for analysis & accuracy measurements)\n",
    "    apply_mlrun(model=model, model_name=model_name, x_test=x_test, y_test=y_test)\n",
    "    # --------------------------------------------------------------------------------------\n",
    "\n",
    "    # Train the model\n",
    "    model.fit(x_train, y_train)"
   ]
  },
  {
   "cell_type": "code",
   "execution_count": 15,
   "id": "678cbb85",
   "metadata": {},
   "outputs": [],
   "source": [
    "# The other option is to use the auto_trainer function form the hub:\n",
    "# trainer = project.set_function(func=\"hub://auto_trainer\")"
   ]
  },
  {
   "cell_type": "code",
   "execution_count": 16,
   "id": "061c3fa2",
   "metadata": {},
   "outputs": [],
   "source": [
    "#Create a serverless function object from the code above, and register it in the project\n",
    "trainer = project.set_function(func=\"trainer.py\", name=\"trainer\", kind=\"job\", image=\"mlrun/mlrun\", handler=\"train\")"
   ]
  },
  {
   "cell_type": "code",
   "execution_count": 17,
   "id": "0f30db2f",
   "metadata": {},
   "outputs": [
    {
     "name": "stdout",
     "output_type": "stream",
     "text": [
      "> 2023-03-13 10:25:33,008 [warning] it is recommended to use k8s secret (specify secret_name), specifying the aws_access_key/aws_secret_key directly is unsafe\n",
      "> 2023-03-13 10:25:33,027 [info] starting run trainer-train uid=8195b874e3ef4ee9981ba6468ac00c9a DB=http://mlrun-api:8080\n",
      "> 2023-03-13 10:25:33,148 [info] Job is running in the background, pod: trainer-train-qcr67\n",
      "> 2023-03-13 10:25:39,812 [info] To track results use the CLI: {'info_cmd': 'mlrun get run 8195b874e3ef4ee9981ba6468ac00c9a -p new-git-project', 'logs_cmd': 'mlrun logs 8195b874e3ef4ee9981ba6468ac00c9a -p new-git-project'}\n",
      "> 2023-03-13 10:25:39,813 [info] run executed, status=completed\n",
      "final state: completed\n"
     ]
    },
    {
     "data": {
      "text/html": [
       "<style>\n",
       ".dictlist {\n",
       "  background-color: #4EC64B;\n",
       "  text-align: center;\n",
       "  margin: 4px;\n",
       "  border-radius: 3px; padding: 0px 3px 1px 3px; display: inline-block;}\n",
       ".artifact {\n",
       "  cursor: pointer;\n",
       "  background-color: #4EC64B;\n",
       "  text-align: left;\n",
       "  margin: 4px; border-radius: 3px; padding: 0px 3px 1px 3px; display: inline-block;\n",
       "}\n",
       "div.block.hidden {\n",
       "  display: none;\n",
       "}\n",
       ".clickable {\n",
       "  cursor: pointer;\n",
       "}\n",
       ".ellipsis {\n",
       "  display: inline-block;\n",
       "  max-width: 60px;\n",
       "  white-space: nowrap;\n",
       "  overflow: hidden;\n",
       "  text-overflow: ellipsis;\n",
       "}\n",
       ".master-wrapper {\n",
       "  display: flex;\n",
       "  flex-flow: row nowrap;\n",
       "  justify-content: flex-start;\n",
       "  align-items: stretch;\n",
       "}\n",
       ".master-tbl {\n",
       "  flex: 3\n",
       "}\n",
       ".master-wrapper > div {\n",
       "  margin: 4px;\n",
       "  padding: 10px;\n",
       "}\n",
       "iframe.fileview {\n",
       "  border: 0 none;\n",
       "  height: 100%;\n",
       "  width: 100%;\n",
       "  white-space: pre-wrap;\n",
       "}\n",
       ".pane-header-title {\n",
       "  width: 80%;\n",
       "  font-weight: 500;\n",
       "}\n",
       ".pane-header {\n",
       "  line-height: 1;\n",
       "  background-color: #4EC64B;\n",
       "  padding: 3px;\n",
       "}\n",
       ".pane-header .close {\n",
       "  font-size: 20px;\n",
       "  font-weight: 700;\n",
       "  float: right;\n",
       "  margin-top: -5px;\n",
       "}\n",
       ".master-wrapper .right-pane {\n",
       "  border: 1px inset silver;\n",
       "  width: 40%;\n",
       "  min-height: 300px;\n",
       "  flex: 3\n",
       "  min-width: 500px;\n",
       "}\n",
       ".master-wrapper * {\n",
       "  box-sizing: border-box;\n",
       "}\n",
       "</style><script>\n",
       "function copyToClipboard(fld) {\n",
       "    if (document.queryCommandSupported && document.queryCommandSupported('copy')) {\n",
       "        var textarea = document.createElement('textarea');\n",
       "        textarea.textContent = fld.innerHTML;\n",
       "        textarea.style.position = 'fixed';\n",
       "        document.body.appendChild(textarea);\n",
       "        textarea.select();\n",
       "\n",
       "        try {\n",
       "            return document.execCommand('copy'); // Security exception may be thrown by some browsers.\n",
       "        } catch (ex) {\n",
       "\n",
       "        } finally {\n",
       "            document.body.removeChild(textarea);\n",
       "        }\n",
       "    }\n",
       "}\n",
       "function expandPanel(el) {\n",
       "  const panelName = \"#\" + el.getAttribute('paneName');\n",
       "  console.log(el.title);\n",
       "\n",
       "  document.querySelector(panelName + \"-title\").innerHTML = el.title\n",
       "  iframe = document.querySelector(panelName + \"-body\");\n",
       "\n",
       "  const tblcss = `<style> body { font-family: Arial, Helvetica, sans-serif;}\n",
       "    #csv { margin-bottom: 15px; }\n",
       "    #csv table { border-collapse: collapse;}\n",
       "    #csv table td { padding: 4px 8px; border: 1px solid silver;} </style>`;\n",
       "\n",
       "  function csvToHtmlTable(str) {\n",
       "    return '<div id=\"csv\"><table><tr><td>' +  str.replace(/[\\n\\r]+$/g, '').replace(/[\\n\\r]+/g, '</td></tr><tr><td>')\n",
       "      .replace(/,/g, '</td><td>') + '</td></tr></table></div>';\n",
       "  }\n",
       "\n",
       "  function reqListener () {\n",
       "    if (el.title.endsWith(\".csv\")) {\n",
       "      iframe.setAttribute(\"srcdoc\", tblcss + csvToHtmlTable(this.responseText));\n",
       "    } else {\n",
       "      iframe.setAttribute(\"srcdoc\", this.responseText);\n",
       "    }\n",
       "    console.log(this.responseText);\n",
       "  }\n",
       "\n",
       "  const oReq = new XMLHttpRequest();\n",
       "  oReq.addEventListener(\"load\", reqListener);\n",
       "  oReq.open(\"GET\", el.title);\n",
       "  oReq.send();\n",
       "\n",
       "\n",
       "  //iframe.src = el.title;\n",
       "  const resultPane = document.querySelector(panelName + \"-pane\");\n",
       "  if (resultPane.classList.contains(\"hidden\")) {\n",
       "    resultPane.classList.remove(\"hidden\");\n",
       "  }\n",
       "}\n",
       "function closePanel(el) {\n",
       "  const panelName = \"#\" + el.getAttribute('paneName')\n",
       "  const resultPane = document.querySelector(panelName + \"-pane\");\n",
       "  if (!resultPane.classList.contains(\"hidden\")) {\n",
       "    resultPane.classList.add(\"hidden\");\n",
       "  }\n",
       "}\n",
       "\n",
       "</script>\n",
       "<div class=\"master-wrapper\">\n",
       "  <div class=\"block master-tbl\"><div>\n",
       "<style scoped>\n",
       "    .dataframe tbody tr th:only-of-type {\n",
       "        vertical-align: middle;\n",
       "    }\n",
       "\n",
       "    .dataframe tbody tr th {\n",
       "        vertical-align: top;\n",
       "    }\n",
       "\n",
       "    .dataframe thead th {\n",
       "        text-align: right;\n",
       "    }\n",
       "</style>\n",
       "<table border=\"1\" class=\"dataframe\">\n",
       "  <thead>\n",
       "    <tr style=\"text-align: right;\">\n",
       "      <th>project</th>\n",
       "      <th>uid</th>\n",
       "      <th>iter</th>\n",
       "      <th>start</th>\n",
       "      <th>state</th>\n",
       "      <th>name</th>\n",
       "      <th>labels</th>\n",
       "      <th>inputs</th>\n",
       "      <th>parameters</th>\n",
       "      <th>results</th>\n",
       "      <th>artifacts</th>\n",
       "    </tr>\n",
       "  </thead>\n",
       "  <tbody>\n",
       "    <tr>\n",
       "      <td>new-git-project</td>\n",
       "      <td><div title=\"8195b874e3ef4ee9981ba6468ac00c9a\"><a href=\"http://127.0.0.1:30060/mlrun/projects/new-git-project/jobs/monitor/8195b874e3ef4ee9981ba6468ac00c9a/overview\" target=\"_blank\" >...8ac00c9a</a></div></td>\n",
       "      <td>0</td>\n",
       "      <td>Mar 13 10:25:36</td>\n",
       "      <td>completed</td>\n",
       "      <td>trainer-train</td>\n",
       "      <td><div class=\"dictlist\">kind=job</div><div class=\"dictlist\">owner=jovyan</div><div class=\"dictlist\">mlrun/client_version=1.3.0-rc34</div><div class=\"dictlist\">mlrun/client_python_version=3.9.13</div><div class=\"dictlist\">host=trainer-train-qcr67</div></td>\n",
       "      <td><div title=\"store://artifacts/new-git-project/fetch-data-fetch-data_dataset:a99c710c39f745988b9c8ef15de890ba\">dataset</div></td>\n",
       "      <td><div class=\"dictlist\">model_class=sklearn.ensemble.RandomForestClassifier</div><div class=\"dictlist\">train_test_split_size=0.2</div><div class=\"dictlist\">label_columns=label</div><div class=\"dictlist\">model_name=iris_model</div></td>\n",
       "      <td><div class=\"dictlist\">accuracy=1.0</div><div class=\"dictlist\">f1_score=1.0</div><div class=\"dictlist\">precision_score=1.0</div><div class=\"dictlist\">recall_score=1.0</div><div class=\"dictlist\">auc-micro=1.0</div><div class=\"dictlist\">auc-macro=1.0</div><div class=\"dictlist\">auc-weighted=1.0</div></td>\n",
       "      <td><div title=\"s3://mlrun/projects/new-git-project/artifacts/trainer-train/0/feature-importance.html\">feature-importance</div><div title=\"s3://mlrun/projects/new-git-project/artifacts/trainer-train/0/test_set.parquet\">test_set</div><div title=\"s3://mlrun/projects/new-git-project/artifacts/trainer-train/0/confusion-matrix.html\">confusion-matrix</div><div title=\"s3://mlrun/projects/new-git-project/artifacts/trainer-train/0/roc-curves.html\">roc-curves</div><div title=\"s3://mlrun/projects/new-git-project/artifacts/trainer-train/0/model/\">model</div></td>\n",
       "    </tr>\n",
       "  </tbody>\n",
       "</table>\n",
       "</div></div>\n",
       "  <div id=\"result40a95ff2-pane\" class=\"right-pane block hidden\">\n",
       "    <div class=\"pane-header\">\n",
       "      <span id=\"result40a95ff2-title\" class=\"pane-header-title\">Title</span>\n",
       "      <span onclick=\"closePanel(this)\" paneName=\"result40a95ff2\" class=\"close clickable\">&times;</span>\n",
       "    </div>\n",
       "    <iframe class=\"fileview\" id=\"result40a95ff2-body\"></iframe>\n",
       "  </div>\n",
       "</div>\n"
      ],
      "text/plain": [
       "<IPython.core.display.HTML object>"
      ]
     },
     "metadata": {},
     "output_type": "display_data"
    },
    {
     "name": "stdout",
     "output_type": "stream",
     "text": [
      "\n"
     ]
    },
    {
     "data": {
      "text/html": [
       "<b> > to track results use the .show() or .logs() methods  or <a href=\"http://127.0.0.1:30060/mlrun/projects/new-git-project/jobs/monitor/8195b874e3ef4ee9981ba6468ac00c9a/overview\" target=\"_blank\">click here</a> to open in UI</b>"
      ],
      "text/plain": [
       "<IPython.core.display.HTML object>"
      ]
     },
     "metadata": {},
     "output_type": "display_data"
    },
    {
     "name": "stdout",
     "output_type": "stream",
     "text": [
      "> 2023-03-13 10:25:42,326 [info] run executed, status=completed\n"
     ]
    }
   ],
   "source": [
    "#Run the function on the remote cluster (you can also run it locally at first by mentioning - local=True)\n",
    "trainer_run = project.run_function(\"trainer\",\n",
    "        inputs={\"dataset\": fetch_data_run_remotely.outputs[\"dataset\"]},\n",
    "        params = {\n",
    "            \"model_class\": \"sklearn.ensemble.RandomForestClassifier\",\n",
    "            \"train_test_split_size\": 0.2,\n",
    "            \"label_columns\": \"label\",\n",
    "            \"model_name\":'iris_model'}, handler='train')"
   ]
  },
  {
   "cell_type": "code",
   "execution_count": 18,
   "id": "c1fbbea5",
   "metadata": {},
   "outputs": [],
   "source": [
    "# Results (metrics) and artifacts are generated and tracked automatically by MLRun\n",
    "# trainer_run.artifact('confusion-matrix').show()"
   ]
  },
  {
   "cell_type": "code",
   "execution_count": 19,
   "id": "b28eb114",
   "metadata": {},
   "outputs": [],
   "source": [
    "# Register a model artifact in the project, so that it can be further imported on project load\n",
    "from mlrun.artifacts import ModelArtifact\n",
    "project.set_artifact('model', ModelArtifact(model_file=\"iris_model.pkl\"), target_path='s3://mlrun/projects/new-git-proj/artifacts/trainer-train/0/model/')"
   ]
  },
  {
   "cell_type": "code",
   "execution_count": 20,
   "id": "8d4bd3b1",
   "metadata": {},
   "outputs": [],
   "source": [
    "#Create a model serving function\n",
    "serving_fn = mlrun.new_function(\"serving\", image=\"python:3.8\", kind=\"serving\", requirements=[\"mlrun[complete]\", \"scikit-learn==1.0.2\"])\n"
   ]
  },
  {
   "cell_type": "code",
   "execution_count": 21,
   "id": "177cae5a",
   "metadata": {},
   "outputs": [
    {
     "data": {
      "text/plain": [
       "{'accuracy': 1.0,\n",
       " 'f1_score': 1.0,\n",
       " 'precision_score': 1.0,\n",
       " 'recall_score': 1.0,\n",
       " 'auc-micro': 1.0,\n",
       " 'auc-macro': 1.0,\n",
       " 'auc-weighted': 1.0,\n",
       " 'feature-importance': 's3://mlrun/projects/new-git-project/artifacts/trainer-train/0/feature-importance.html',\n",
       " 'test_set': 'store://artifacts/new-git-project/trainer-train_test_set:8195b874e3ef4ee9981ba6468ac00c9a',\n",
       " 'confusion-matrix': 's3://mlrun/projects/new-git-project/artifacts/trainer-train/0/confusion-matrix.html',\n",
       " 'roc-curves': 's3://mlrun/projects/new-git-project/artifacts/trainer-train/0/roc-curves.html',\n",
       " 'model': 'store://artifacts/new-git-project/iris_model:8195b874e3ef4ee9981ba6468ac00c9a'}"
      ]
     },
     "execution_count": 21,
     "metadata": {},
     "output_type": "execute_result"
    }
   ],
   "source": [
    "trainer_run.outputs"
   ]
  },
  {
   "cell_type": "code",
   "execution_count": 22,
   "id": "984cc1fc",
   "metadata": {},
   "outputs": [
    {
     "data": {
      "text/plain": [
       "<mlrun.serving.states.TaskStep at 0x7f4b4554e6d0>"
      ]
     },
     "execution_count": 22,
     "metadata": {},
     "output_type": "execute_result"
    }
   ],
   "source": [
    "#Add a model to the serving function\n",
    "serving_fn.add_model('iris_model',model_path=trainer_run.outputs[\"model\"], class_name='mlrun.frameworks.sklearn.SklearnModelServer')\n"
   ]
  },
  {
   "cell_type": "code",
   "execution_count": 23,
   "id": "22d7d096",
   "metadata": {},
   "outputs": [
    {
     "name": "stdout",
     "output_type": "stream",
     "text": [
      "> 2023-03-13 10:25:42,380 [warning] run command, file or code were not specified\n",
      "> 2023-03-13 10:25:43,286 [info] model iris_model was loaded\n",
      "> 2023-03-13 10:25:43,289 [info] Loaded ['iris_model']\n"
     ]
    }
   ],
   "source": [
    "# Simulating the model server locally\n",
    "server = serving_fn.to_mock_server()"
   ]
  },
  {
   "cell_type": "code",
   "execution_count": 24,
   "id": "288c78ee",
   "metadata": {},
   "outputs": [],
   "source": [
    "#Test the mock model server endpoint\n",
    "# server.test(\"/v2/models/\", method=\"GET\")"
   ]
  },
  {
   "cell_type": "code",
   "execution_count": 25,
   "id": "662c8999",
   "metadata": {},
   "outputs": [
    {
     "name": "stderr",
     "output_type": "stream",
     "text": [
      "X does not have valid feature names, but GradientBoostingClassifier was fitted with feature names\n"
     ]
    },
    {
     "data": {
      "text/plain": [
       "{'id': '4b94cbf10beb4742b8261f2f23dfa830',\n",
       " 'model_name': 'iris_model',\n",
       " 'outputs': ['Iris-setosa']}"
      ]
     },
     "execution_count": 25,
     "metadata": {},
     "output_type": "execute_result"
    }
   ],
   "source": [
    "# Infer using test data\n",
    "my_data = {\"inputs\"\n",
    "           :[[\n",
    "               5,3,1.5,0.2]\n",
    "            ]\n",
    "}\n",
    "server.test(\"/\", body=my_data)"
   ]
  },
  {
   "cell_type": "markdown",
   "id": "23d54727",
   "metadata": {},
   "source": [
    "Deploy a real-time serving function (over K8S or Docker). This requires Nuclio to be installed (over K8S or Docker).\n",
    "Use the mlrun deploy_function() method to build and deploy a Nuclio serving function from your serving-function code\n",
    "Use the mlrun deploy_function() method to build and deploy a Nuclio serving function from your serving-function code"
   ]
  },
  {
   "cell_type": "code",
   "execution_count": 27,
   "id": "1a52d517",
   "metadata": {},
   "outputs": [],
   "source": [
    "# project.deploy_function(serving_fn)"
   ]
  },
  {
   "cell_type": "code",
   "execution_count": 28,
   "id": "c2bec4e9",
   "metadata": {},
   "outputs": [],
   "source": [
    "# # Test the live endpoint\n",
    "# serving_fn.invoke(\"/\", body=my_data)"
   ]
  },
  {
   "cell_type": "code",
   "execution_count": 29,
   "id": "2529aa87",
   "metadata": {},
   "outputs": [
    {
     "name": "stdout",
     "output_type": "stream",
     "text": [
      "> 2023-03-13 10:33:13,560 [info] function spec saved to path: serving.yaml\n"
     ]
    },
    {
     "data": {
      "text/plain": [
       "<mlrun.runtimes.serving.ServingRuntime at 0x7f4b455dfd90>"
      ]
     },
     "execution_count": 29,
     "metadata": {},
     "output_type": "execute_result"
    }
   ],
   "source": [
    "# Before registering the serving function in the project (so that it can be further loaded from git) we first exporting\n",
    "# its YAML, so that project YAML will look more compact (otherwise it will include the whole YAML of the serving function)\n",
    "serving_fn.export('serving.yaml')\n",
    "project.set_function(func='serving.yaml',name='serving',kind='serving')"
   ]
  },
  {
   "cell_type": "markdown",
   "id": "fb66fde8",
   "metadata": {},
   "source": [
    "For setting a nuclio function you can see the example below:\n",
    "```\n",
    "project.set_function(func='nuclio.py',name='nuclio',handler='multi:multi_3',kind='nuclio',image='mlrun/mlrun')\n",
    "Or\n",
    "project.set_function(name='nuclio',handler='multi:multi_3',kind='nuclio',image='mlrun/mlrun',with_repo=True)\n",
    "```"
   ]
  },
  {
   "cell_type": "code",
   "execution_count": 30,
   "id": "8a0a30c4",
   "metadata": {},
   "outputs": [],
   "source": [
    "# Here is how the project YAML looks now\n",
    "# print(project.to_yaml())"
   ]
  },
  {
   "cell_type": "markdown",
   "id": "063b7c7d",
   "metadata": {},
   "source": [
    "Build and run automated ML pipelines and CI/CD\n",
    "\n",
    "A pipeline is created by running an MLRun “workflow”. The following code defines a workflow and \n",
    "writes it to a file in your local directory, with the file name workflow.py. The workflow describes\n",
    "a directed acyclic graph (DAG) which is executed using the local, remote, or kubeflow engines.\n",
    "\n",
    "See \"running a multi-stage workflow\". The defined pipeline includes the following steps:\n",
    "Generate/prepare the data (fetch).\n",
    "Train and the model (train).\n",
    "Deploy the model as a real-time serverless function (serving)."
   ]
  },
  {
   "cell_type": "code",
   "execution_count": 33,
   "id": "3a9a2b29",
   "metadata": {},
   "outputs": [
    {
     "name": "stdout",
     "output_type": "stream",
     "text": [
      "Overwriting ./workflow.py\n"
     ]
    }
   ],
   "source": [
    "%%writefile './workflow.py'\n",
    "\n",
    "from kfp import dsl\n",
    "import mlrun\n",
    "\n",
    "# Create a Kubeflow Pipelines pipeline\n",
    "@dsl.pipeline(name=\"iris-git-demo\")\n",
    "def pipeline(dataset_uri,model_name=\"iris_model\"):\n",
    "    # Run the ingestion function with the new image and params\n",
    "    ingest = mlrun.run_function(inputs={'dataset':dataset_uri},\n",
    "        function=\"fetch_data\",\n",
    "        outputs=[\"dataset\"], \n",
    "    )\n",
    "\n",
    "    # Train a model using the trainer function\n",
    "    train = mlrun.run_function(\n",
    "        \"trainer\",\n",
    "        inputs={\"dataset\": ingest.outputs[\"dataset\"]},\n",
    "        params = {\n",
    "            \"model_class\": \"sklearn.ensemble.RandomForestClassifier\",\n",
    "            \"train_test_split_size\": 0.2,\n",
    "            \"label_columns\": \"label\",\n",
    "            \"model_name\": model_name,\n",
    "        }, \n",
    "        handler='train',\n",
    "        outputs=[\"model\"],\n",
    "    )\n",
    "\n",
    "    # Deploy the trained model as a serverless function\n",
    "    # mlrun.deploy_function(\n",
    "    #     \"serving\",\n",
    "    #     models=[\n",
    "    #         {\n",
    "    #             \"key\": model_name,\n",
    "    #             \"model_path\": train.outputs[\"model\"],\n",
    "    #             \"class_name\": 'mlrun.frameworks.sklearn.SklearnModelServer',\n",
    "    #         }\n",
    "    #     ],\n",
    "    # )"
   ]
  },
  {
   "cell_type": "code",
   "execution_count": 34,
   "id": "710e8fe6",
   "metadata": {},
   "outputs": [],
   "source": [
    "# Add a multi-stage workflow (./workflow.py) to the project with the name 'main' and save the project \n",
    "my_workflow = project.set_workflow('main', \"./workflow.py\")"
   ]
  },
  {
   "cell_type": "code",
   "execution_count": 35,
   "id": "a182bf62",
   "metadata": {},
   "outputs": [
    {
     "data": {
      "text/html": [
       "<div>Pipeline running (id=e6449c02-5d01-4769-ad14-8d60c2234ea2), <a href=\"http://127.0.0.1:30060/mlrun/projects/new-git-project/jobs/monitor-workflows/workflow/e6449c02-5d01-4769-ad14-8d60c2234ea2\" target=\"_blank\"><b>click here</b></a> to view the details in MLRun UI</div>"
      ],
      "text/plain": [
       "<IPython.core.display.HTML object>"
      ]
     },
     "metadata": {},
     "output_type": "display_data"
    },
    {
     "data": {
      "image/svg+xml": [
       "<?xml version=\"1.0\" encoding=\"UTF-8\" standalone=\"no\"?>\n",
       "<!DOCTYPE svg PUBLIC \"-//W3C//DTD SVG 1.1//EN\"\n",
       " \"http://www.w3.org/Graphics/SVG/1.1/DTD/svg11.dtd\">\n",
       "<!-- Generated by graphviz version 2.43.0 (0)\n",
       " -->\n",
       "<!-- Title: kfp Pages: 1 -->\n",
       "<svg width=\"113pt\" height=\"116pt\"\n",
       " viewBox=\"0.00 0.00 113.29 116.00\" xmlns=\"http://www.w3.org/2000/svg\" xmlns:xlink=\"http://www.w3.org/1999/xlink\">\n",
       "<g id=\"graph0\" class=\"graph\" transform=\"scale(1 1) rotate(0) translate(4 112)\">\n",
       "<title>kfp</title>\n",
       "<polygon fill=\"white\" stroke=\"transparent\" points=\"-4,4 -4,-112 109.29,-112 109.29,4 -4,4\"/>\n",
       "<!-- iris&#45;git&#45;demo&#45;j842l&#45;4196127828 -->\n",
       "<g id=\"node1\" class=\"node\">\n",
       "<title>iris&#45;git&#45;demo&#45;j842l&#45;4196127828</title>\n",
       "<ellipse fill=\"green\" stroke=\"black\" cx=\"52.65\" cy=\"-18\" rx=\"52.79\" ry=\"18\"/>\n",
       "<text text-anchor=\"middle\" x=\"52.65\" y=\"-14.3\" font-family=\"Times,serif\" font-size=\"14.00\">trainer&#45;train</text>\n",
       "</g>\n",
       "<!-- iris&#45;git&#45;demo&#45;j842l&#45;4221238801 -->\n",
       "<g id=\"node2\" class=\"node\">\n",
       "<title>iris&#45;git&#45;demo&#45;j842l&#45;4221238801</title>\n",
       "<ellipse fill=\"green\" stroke=\"black\" cx=\"52.65\" cy=\"-90\" rx=\"46.29\" ry=\"18\"/>\n",
       "<text text-anchor=\"middle\" x=\"52.65\" y=\"-86.3\" font-family=\"Times,serif\" font-size=\"14.00\">fetch&#45;data</text>\n",
       "</g>\n",
       "<!-- iris&#45;git&#45;demo&#45;j842l&#45;4221238801&#45;&gt;iris&#45;git&#45;demo&#45;j842l&#45;4196127828 -->\n",
       "<g id=\"edge1\" class=\"edge\">\n",
       "<title>iris&#45;git&#45;demo&#45;j842l&#45;4221238801&#45;&gt;iris&#45;git&#45;demo&#45;j842l&#45;4196127828</title>\n",
       "<path fill=\"none\" stroke=\"black\" d=\"M52.65,-71.7C52.65,-63.98 52.65,-54.71 52.65,-46.11\"/>\n",
       "<polygon fill=\"black\" stroke=\"black\" points=\"56.15,-46.1 52.65,-36.1 49.15,-46.1 56.15,-46.1\"/>\n",
       "</g>\n",
       "</g>\n",
       "</svg>\n"
      ],
      "text/plain": [
       "<graphviz.graphs.Digraph at 0x7f4b6c833520>"
      ]
     },
     "metadata": {},
     "output_type": "display_data"
    },
    {
     "data": {
      "text/html": [
       "<h2>Run Results</h2><h3>[info] Workflow e6449c02-5d01-4769-ad14-8d60c2234ea2 finished, state=Succeeded</h3><br>click the hyper links below to see detailed results<br><table border=\"1\" class=\"dataframe\">\n",
       "  <thead>\n",
       "    <tr style=\"text-align: right;\">\n",
       "      <th>uid</th>\n",
       "      <th>start</th>\n",
       "      <th>state</th>\n",
       "      <th>name</th>\n",
       "      <th>parameters</th>\n",
       "      <th>results</th>\n",
       "    </tr>\n",
       "  </thead>\n",
       "  <tbody>\n",
       "    <tr>\n",
       "      <td><div title=\"3dbc334f56844d87bc520f9b685d5d12\"><a href=\"http://127.0.0.1:30060/mlrun/projects/new-git-project/jobs/monitor/3dbc334f56844d87bc520f9b685d5d12/overview\" target=\"_blank\" >...685d5d12</a></div></td>\n",
       "      <td>Mar 13 10:34:11</td>\n",
       "      <td>completed</td>\n",
       "      <td>trainer-train</td>\n",
       "      <td><div class=\"dictlist\">model_class=sklearn.ensemble.RandomForestClassifier</div><div class=\"dictlist\">train_test_split_size=0.2</div><div class=\"dictlist\">label_columns=label</div><div class=\"dictlist\">model_name=iris_model</div></td>\n",
       "      <td><div class=\"dictlist\">accuracy=1.0</div><div class=\"dictlist\">f1_score=1.0</div><div class=\"dictlist\">precision_score=1.0</div><div class=\"dictlist\">recall_score=1.0</div><div class=\"dictlist\">auc-micro=1.0</div><div class=\"dictlist\">auc-macro=1.0</div><div class=\"dictlist\">auc-weighted=1.0</div></td>\n",
       "    </tr>\n",
       "    <tr>\n",
       "      <td><div title=\"d688423e5f5c40e7a1032498de1ca7ca\"><a href=\"http://127.0.0.1:30060/mlrun/projects/new-git-project/jobs/monitor/d688423e5f5c40e7a1032498de1ca7ca/overview\" target=\"_blank\" >...de1ca7ca</a></div></td>\n",
       "      <td>Mar 13 10:33:44</td>\n",
       "      <td>completed</td>\n",
       "      <td>fetch-data</td>\n",
       "      <td></td>\n",
       "      <td><div class=\"dictlist\">label_column=label</div></td>\n",
       "    </tr>\n",
       "  </tbody>\n",
       "</table>"
      ],
      "text/plain": [
       "<IPython.core.display.HTML object>"
      ]
     },
     "metadata": {},
     "output_type": "display_data"
    }
   ],
   "source": [
    "# Run the workflow\n",
    "run_id = project.run(\n",
    "    #workflow_path=\"./workflow.py\",\n",
    "    name = 'main',\n",
    "    arguments={'dataset_uri':project.get_artifact('data').uri}, \n",
    "    watch=True)"
   ]
  },
  {
   "cell_type": "code",
   "execution_count": 36,
   "id": "7f63b4aa",
   "metadata": {},
   "outputs": [
    {
     "name": "stdout",
     "output_type": "stream",
     "text": [
      "kind: project\n",
      "metadata:\n",
      "  name: new-git-project\n",
      "spec:\n",
      "  functions:\n",
      "  - url: fetch_data.py\n",
      "    name: fetch_data\n",
      "    kind: job\n",
      "    image: mlrun/mlrun\n",
      "    handler: fetch_data\n",
      "  - url: trainer.py\n",
      "    name: trainer\n",
      "    kind: job\n",
      "    image: mlrun/mlrun\n",
      "    handler: train\n",
      "  - url: serving.yaml\n",
      "    name: serving\n",
      "    kind: serving\n",
      "  workflows:\n",
      "  - path: ./workflow.py\n",
      "    name: main\n",
      "  artifacts:\n",
      "  - kind: dataset\n",
      "    metadata:\n",
      "      project: new-git-project\n",
      "      key: data\n",
      "    spec:\n",
      "      target_path: https://s3.wasabisys.com/iguazio/data/iris/iris.data.raw.csv\n",
      "      format: ''\n",
      "    status:\n",
      "      state: created\n",
      "  - kind: model\n",
      "    metadata:\n",
      "      project: new-git-project\n",
      "      key: model\n",
      "    spec:\n",
      "      target_path: s3://mlrun/projects/new-git-proj/artifacts/trainer-train/0/model/\n",
      "      model_file: iris_model.pkl\n",
      "    status:\n",
      "      state: created\n",
      "  conda: ''\n",
      "  source: ''\n",
      "  desired_state: online\n",
      "\n"
     ]
    }
   ],
   "source": [
    "# Here is how project YAML looks now\n",
    "print(project.to_yaml())"
   ]
  },
  {
   "cell_type": "code",
   "execution_count": null,
   "id": "e77e921b",
   "metadata": {},
   "outputs": [],
   "source": [
    "# # Pull the latest code from git (important if remote changed)\n",
    "# project.pull(\"master\")"
   ]
  },
  {
   "cell_type": "code",
   "execution_count": 42,
   "id": "efa51fcd-d5cf-49b8-aaae-6f8bb6ae1bf6",
   "metadata": {},
   "outputs": [],
   "source": [
    "project.create_remote('https://github.com/GiladShapira94/test_push_1.git',branch='test')"
   ]
  },
  {
   "cell_type": "code",
   "execution_count": 39,
   "id": "51d64fd3-ba5e-4904-a0d9-ee6aaed34a10",
   "metadata": {},
   "outputs": [
    {
     "data": {
      "text/plain": [
       "<mlrun.projects.project.MlrunProject at 0x7f4b68794100>"
      ]
     },
     "execution_count": 39,
     "metadata": {},
     "output_type": "execute_result"
    }
   ],
   "source": [
    "project.save()"
   ]
  },
  {
   "cell_type": "code",
   "execution_count": null,
   "id": "9ec0cc69",
   "metadata": {},
   "outputs": [],
   "source": [
    "# by default project.push pushes the project.yaml, so there is no need to include it in files_to_add\n",
    "files_to_add = ['main.ipynb','fetch_data.py','serving.yaml','trainer.py','workflow.py','test.txt']\n",
    "# Save the project state and commit/push updates to the remote git repo with all the files in files_to_add\n",
    "project.push(branch='master',message='project with a workflow',add=files_to_add)"
   ]
  },
  {
   "cell_type": "markdown",
   "id": "838354d0",
   "metadata": {},
   "source": [
    "Congratulations! You've successfully pushed your poject to git"
   ]
  },
  {
   "cell_type": "code",
   "execution_count": null,
   "id": "64e6e525",
   "metadata": {},
   "outputs": [],
   "source": [
    "# # Is needed if the remote code changed after my push (e.g a team is working on the same branch)\n",
    "# project.pull(\"my_git_project\") "
   ]
  },
  {
   "cell_type": "markdown",
   "id": "127d1b62",
   "metadata": {},
   "source": [
    "Congratulations! You've successfully pulled your poject from git"
   ]
  }
 ],
 "metadata": {
  "kernelspec": {
   "display_name": "Python 3 (ipykernel)",
   "language": "python",
   "name": "python3"
  },
  "language_info": {
   "codemirror_mode": {
    "name": "ipython",
    "version": 3
   },
   "file_extension": ".py",
   "mimetype": "text/x-python",
   "name": "python",
   "nbconvert_exporter": "python",
   "pygments_lexer": "ipython3",
   "version": "3.9.13"
  }
 },
 "nbformat": 4,
 "nbformat_minor": 5
}
