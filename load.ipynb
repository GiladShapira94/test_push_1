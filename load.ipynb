{
 "cells": [
  {
   "cell_type": "code",
   "execution_count": 1,
   "id": "bfe94fdc",
   "metadata": {},
   "outputs": [],
   "source": [
    "import mlrun"
   ]
  },
  {
   "cell_type": "code",
   "execution_count": 2,
   "id": "fc2721ae",
   "metadata": {},
   "outputs": [],
   "source": [
    "# Define the link to the project source in git\n",
    "git_source = 'git://github.com/GiladShapira94/test_push.git'"
   ]
  },
  {
   "cell_type": "code",
   "execution_count": 3,
   "id": "2690f13d",
   "metadata": {},
   "outputs": [],
   "source": [
    "#Load the project from the Git URL, specified by a new name (ci-cd-load) and put it in the project_context directory\n",
    "project = mlrun.load_project(context='./project_context',url = git_source,clone=True)\n",
    "# Alternaticely pull the latest code from git with project.pull(\"my_git_project\")  "
   ]
  },
  {
   "cell_type": "code",
   "execution_count": 4,
   "id": "262c4786",
   "metadata": {},
   "outputs": [
    {
     "name": "stdout",
     "output_type": "stream",
     "text": [
      "kind: project\n",
      "metadata:\n",
      "  name: new-git-project\n",
      "spec:\n",
      "  functions:\n",
      "  - url: fetch_data.py\n",
      "    name: fetch_data\n",
      "    kind: job\n",
      "    image: mlrun/mlrun\n",
      "    handler: fetch_data\n",
      "  - url: trainer.py\n",
      "    name: trainer\n",
      "    kind: job\n",
      "    image: mlrun/mlrun\n",
      "    handler: train\n",
      "  - url: serving.yaml\n",
      "    name: serving\n",
      "    kind: serving\n",
      "  workflows:\n",
      "  - path: ./workflow.py\n",
      "    name: main\n",
      "  artifacts:\n",
      "  - kind: dataset\n",
      "    metadata:\n",
      "      project: new-git-project\n",
      "      key: data\n",
      "    spec:\n",
      "      target_path: https://s3.wasabisys.com/iguazio/data/iris/iris.data.raw.csv\n",
      "      format: ''\n",
      "    status:\n",
      "      state: created\n",
      "  - kind: model\n",
      "    metadata:\n",
      "      project: new-git-project\n",
      "      key: model\n",
      "    spec:\n",
      "      target_path: s3://mlrun/projects/new-git-proj/artifacts/trainer-train/0/model/\n",
      "      model_file: iris_model.pkl\n",
      "    status:\n",
      "      state: created\n",
      "  source: git://github.com/GiladShapira94/test_push.git\n",
      "  origin_url: git://github.com/GiladShapira94/test_push.git\n",
      "  desired_state: online\n",
      "\n"
     ]
    }
   ],
   "source": [
    "print(project.to_yaml())"
   ]
  },
  {
   "cell_type": "code",
   "execution_count": 15,
   "id": "735e502c",
   "metadata": {},
   "outputs": [],
   "source": [
    "data_art = project.get_artifact('data')"
   ]
  },
  {
   "cell_type": "code",
   "execution_count": 16,
   "id": "09fa340e",
   "metadata": {},
   "outputs": [
    {
     "name": "stdout",
     "output_type": "stream",
     "text": [
      "kind: dataset\n",
      "metadata:\n",
      "  key: data\n",
      "  project: new-git-project\n",
      "  iter: 0\n",
      "  tree: e85247cd502b5a9fc554f0148e16e03f950f870d\n",
      "  tag: latest\n",
      "  updated: '2023-03-08T12:06:41.560824+00:00'\n",
      "spec:\n",
      "  target_path: https://s3.wasabisys.com/iguazio/data/iris/iris.data.raw.csv\n",
      "  format: ''\n",
      "  db_key: data\n",
      "  producer:\n",
      "    kind: project\n",
      "    name: new-git-project\n",
      "    tag: e85247cd502b5a9fc554f0148e16e03f950f870d\n",
      "  sources: []\n",
      "  license: ''\n",
      "status:\n",
      "  state: created\n",
      "\n"
     ]
    }
   ],
   "source": [
    "print(data_art.to_yaml())"
   ]
  },
  {
   "cell_type": "code",
   "execution_count": 17,
   "id": "f0e22849",
   "metadata": {},
   "outputs": [],
   "source": [
    "# project.set_source(source=git_source,pull_at_runtime=True)"
   ]
  },
  {
   "cell_type": "code",
   "execution_count": 18,
   "id": "b0c0ad87",
   "metadata": {},
   "outputs": [],
   "source": [
    "# Check that the project loaded properly\n",
    "# print(project.to_yaml())"
   ]
  },
  {
   "cell_type": "code",
   "execution_count": 19,
   "id": "7de33f3a",
   "metadata": {},
   "outputs": [],
   "source": [
    "# Before running the main workflow we need to prepare the dataset and model arguments\n",
    "dataset = project.get_artifact('data')\n",
    "model = project.get_artifact('model')"
   ]
  },
  {
   "cell_type": "code",
   "execution_count": 20,
   "id": "eb175d89",
   "metadata": {},
   "outputs": [],
   "source": [
    "# df = dataset.to_dataitem().as_df()"
   ]
  },
  {
   "cell_type": "code",
   "execution_count": 21,
   "id": "59f2a370",
   "metadata": {},
   "outputs": [],
   "source": [
    "# fetch_data_run = project.run_function('fetch_data',inputs={'dataset': dataset.uri})"
   ]
  },
  {
   "cell_type": "code",
   "execution_count": 22,
   "id": "f52d4d6c",
   "metadata": {},
   "outputs": [],
   "source": [
    "data_url = 'https://s3.wasabisys.com/iguazio/data/iris/iris.data.raw.csv'"
   ]
  },
  {
   "cell_type": "code",
   "execution_count": 23,
   "id": "58a42960",
   "metadata": {},
   "outputs": [
    {
     "data": {
      "text/plain": [
       "'\\ntrainer_run = project.run_function(\"trainer\",\\n        inputs={\"dataset\": data_url},\\n        params = {\\n            \"model_class\": \"sklearn.ensemble.RandomForestClassifier\",\\n            \"train_test_split_size\": 0.2,\\n            \"label_columns\": \"label\",\\n            \"model_name\":\\'iris_model\\'}, handler=\\'train\\')\\n'"
      ]
     },
     "execution_count": 23,
     "metadata": {},
     "output_type": "execute_result"
    }
   ],
   "source": [
    "'''\n",
    "trainer_run = project.run_function(\"trainer\",\n",
    "        inputs={\"dataset\": data_url},\n",
    "        params = {\n",
    "            \"model_class\": \"sklearn.ensemble.RandomForestClassifier\",\n",
    "            \"train_test_split_size\": 0.2,\n",
    "            \"label_columns\": \"label\",\n",
    "            \"model_name\":'iris_model'}, handler='train')\n",
    "'''"
   ]
  },
  {
   "cell_type": "code",
   "execution_count": 24,
   "id": "88e98a65",
   "metadata": {},
   "outputs": [
    {
     "data": {
      "text/html": [
       "<div>Pipeline running (id=2f47302d-bd7a-4bf8-a6cd-cacb5415f4de), <a href=\"http://192.168.224.227:30060/mlrun/projects/new-git-project/jobs/monitor-workflows/workflow/2f47302d-bd7a-4bf8-a6cd-cacb5415f4de\" target=\"_blank\"><b>click here</b></a> to view the details in MLRun UI</div>"
      ],
      "text/plain": [
       "<IPython.core.display.HTML object>"
      ]
     },
     "metadata": {},
     "output_type": "display_data"
    },
    {
     "data": {
      "image/svg+xml": [
       "<?xml version=\"1.0\" encoding=\"UTF-8\" standalone=\"no\"?>\n",
       "<!DOCTYPE svg PUBLIC \"-//W3C//DTD SVG 1.1//EN\"\n",
       " \"http://www.w3.org/Graphics/SVG/1.1/DTD/svg11.dtd\">\n",
       "<!-- Generated by graphviz version 2.43.0 (0)\n",
       " -->\n",
       "<!-- Title: kfp Pages: 1 -->\n",
       "<svg width=\"113pt\" height=\"188pt\"\n",
       " viewBox=\"0.00 0.00 113.29 188.00\" xmlns=\"http://www.w3.org/2000/svg\" xmlns:xlink=\"http://www.w3.org/1999/xlink\">\n",
       "<g id=\"graph0\" class=\"graph\" transform=\"scale(1 1) rotate(0) translate(4 184)\">\n",
       "<title>kfp</title>\n",
       "<polygon fill=\"white\" stroke=\"transparent\" points=\"-4,4 -4,-184 109.29,-184 109.29,4 -4,4\"/>\n",
       "<!-- iris&#45;git&#45;demo&#45;v5xpc&#45;2097289102 -->\n",
       "<g id=\"node1\" class=\"node\">\n",
       "<title>iris&#45;git&#45;demo&#45;v5xpc&#45;2097289102</title>\n",
       "<polygon fill=\"green\" stroke=\"black\" points=\"101.65,-36 7.65,-36 3.65,-32 3.65,0 97.65,0 101.65,-4 101.65,-36\"/>\n",
       "<polyline fill=\"none\" stroke=\"black\" points=\"97.65,-32 3.65,-32 \"/>\n",
       "<polyline fill=\"none\" stroke=\"black\" points=\"97.65,-32 97.65,0 \"/>\n",
       "<polyline fill=\"none\" stroke=\"black\" points=\"97.65,-32 101.65,-36 \"/>\n",
       "<text text-anchor=\"middle\" x=\"52.65\" y=\"-14.3\" font-family=\"Times,serif\" font-size=\"14.00\">deploy&#45;serving</text>\n",
       "</g>\n",
       "<!-- iris&#45;git&#45;demo&#45;v5xpc&#45;3042981215 -->\n",
       "<g id=\"node2\" class=\"node\">\n",
       "<title>iris&#45;git&#45;demo&#45;v5xpc&#45;3042981215</title>\n",
       "<ellipse fill=\"green\" stroke=\"black\" cx=\"52.65\" cy=\"-162\" rx=\"46.29\" ry=\"18\"/>\n",
       "<text text-anchor=\"middle\" x=\"52.65\" y=\"-158.3\" font-family=\"Times,serif\" font-size=\"14.00\">fetch&#45;data</text>\n",
       "</g>\n",
       "<!-- iris&#45;git&#45;demo&#45;v5xpc&#45;3077930130 -->\n",
       "<g id=\"node3\" class=\"node\">\n",
       "<title>iris&#45;git&#45;demo&#45;v5xpc&#45;3077930130</title>\n",
       "<ellipse fill=\"green\" stroke=\"black\" cx=\"52.65\" cy=\"-90\" rx=\"52.79\" ry=\"18\"/>\n",
       "<text text-anchor=\"middle\" x=\"52.65\" y=\"-86.3\" font-family=\"Times,serif\" font-size=\"14.00\">trainer&#45;train</text>\n",
       "</g>\n",
       "<!-- iris&#45;git&#45;demo&#45;v5xpc&#45;3042981215&#45;&gt;iris&#45;git&#45;demo&#45;v5xpc&#45;3077930130 -->\n",
       "<g id=\"edge1\" class=\"edge\">\n",
       "<title>iris&#45;git&#45;demo&#45;v5xpc&#45;3042981215&#45;&gt;iris&#45;git&#45;demo&#45;v5xpc&#45;3077930130</title>\n",
       "<path fill=\"none\" stroke=\"black\" d=\"M52.65,-143.7C52.65,-135.98 52.65,-126.71 52.65,-118.11\"/>\n",
       "<polygon fill=\"black\" stroke=\"black\" points=\"56.15,-118.1 52.65,-108.1 49.15,-118.1 56.15,-118.1\"/>\n",
       "</g>\n",
       "<!-- iris&#45;git&#45;demo&#45;v5xpc&#45;3077930130&#45;&gt;iris&#45;git&#45;demo&#45;v5xpc&#45;2097289102 -->\n",
       "<g id=\"edge2\" class=\"edge\">\n",
       "<title>iris&#45;git&#45;demo&#45;v5xpc&#45;3077930130&#45;&gt;iris&#45;git&#45;demo&#45;v5xpc&#45;2097289102</title>\n",
       "<path fill=\"none\" stroke=\"black\" d=\"M52.65,-71.7C52.65,-63.98 52.65,-54.71 52.65,-46.11\"/>\n",
       "<polygon fill=\"black\" stroke=\"black\" points=\"56.15,-46.1 52.65,-36.1 49.15,-46.1 56.15,-46.1\"/>\n",
       "</g>\n",
       "</g>\n",
       "</svg>\n"
      ],
      "text/plain": [
       "<graphviz.dot.Digraph at 0x7fe2f82bd340>"
      ]
     },
     "metadata": {},
     "output_type": "display_data"
    },
    {
     "data": {
      "text/html": [
       "<h2>Run Results</h2><h3>[info] Workflow 2f47302d-bd7a-4bf8-a6cd-cacb5415f4de finished, state=Succeeded</h3><br>click the hyper links below to see detailed results<br><table border=\"1\" class=\"dataframe\">\n",
       "  <thead>\n",
       "    <tr style=\"text-align: right;\">\n",
       "      <th>uid</th>\n",
       "      <th>start</th>\n",
       "      <th>state</th>\n",
       "      <th>name</th>\n",
       "      <th>parameters</th>\n",
       "      <th>results</th>\n",
       "    </tr>\n",
       "  </thead>\n",
       "  <tbody>\n",
       "    <tr>\n",
       "      <td><div title=\"40ebd891c73749dc8864864fbfd18dd0\"><a href=\"http://192.168.224.227:30060/mlrun/projects/new-git-project/jobs/monitor/40ebd891c73749dc8864864fbfd18dd0/overview\" target=\"_blank\" >...bfd18dd0</a></div></td>\n",
       "      <td>Mar 08 12:31:00</td>\n",
       "      <td>completed</td>\n",
       "      <td>trainer-train</td>\n",
       "      <td><div class=\"dictlist\">model_class=sklearn.ensemble.RandomForestClassifier</div><div class=\"dictlist\">train_test_split_size=0.2</div><div class=\"dictlist\">label_columns=label</div><div class=\"dictlist\">model_name=iris_model</div></td>\n",
       "      <td><div class=\"dictlist\">accuracy=1.0</div><div class=\"dictlist\">f1_score=1.0</div><div class=\"dictlist\">precision_score=1.0</div><div class=\"dictlist\">recall_score=1.0</div><div class=\"dictlist\">auc-micro=1.0</div><div class=\"dictlist\">auc-macro=1.0</div><div class=\"dictlist\">auc-weighted=1.0</div></td>\n",
       "    </tr>\n",
       "    <tr>\n",
       "      <td><div title=\"c2375873ec7b46ec889c05e5331733ba\"><a href=\"http://192.168.224.227:30060/mlrun/projects/new-git-project/jobs/monitor/c2375873ec7b46ec889c05e5331733ba/overview\" target=\"_blank\" >...331733ba</a></div></td>\n",
       "      <td>Mar 08 12:30:15</td>\n",
       "      <td>completed</td>\n",
       "      <td>fetch-data</td>\n",
       "      <td></td>\n",
       "      <td><div class=\"dictlist\">label_column=label</div></td>\n",
       "    </tr>\n",
       "  </tbody>\n",
       "</table>"
      ],
      "text/plain": [
       "<IPython.core.display.HTML object>"
      ]
     },
     "metadata": {},
     "output_type": "display_data"
    },
    {
     "data": {
      "text/plain": [
       "2f47302d-bd7a-4bf8-a6cd-cacb5415f4de"
      ]
     },
     "execution_count": 24,
     "metadata": {},
     "output_type": "execute_result"
    }
   ],
   "source": [
    "project.run(\"main\", arguments={'dataset_uri': dataset.uri, 'model_name': \"iris_model\"},watch=True)  # run the workflow \"main\""
   ]
  },
  {
   "cell_type": "code",
   "execution_count": null,
   "id": "2d887a47",
   "metadata": {},
   "outputs": [],
   "source": []
  },
  {
   "cell_type": "code",
   "execution_count": null,
   "id": "c5b9b6bc-b8e7-4d94-8ad7-253027f95df4",
   "metadata": {},
   "outputs": [],
   "source": []
  }
 ],
 "metadata": {
  "kernelspec": {
   "display_name": "Python 3",
   "language": "python",
   "name": "python3"
  },
  "language_info": {
   "codemirror_mode": {
    "name": "ipython",
    "version": 3
   },
   "file_extension": ".py",
   "mimetype": "text/x-python",
   "name": "python",
   "nbconvert_exporter": "python",
   "pygments_lexer": "ipython3",
   "version": "3.8.8"
  }
 },
 "nbformat": 4,
 "nbformat_minor": 5
}
